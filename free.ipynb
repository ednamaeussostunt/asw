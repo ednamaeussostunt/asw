{
 "cells": [
  {
   "cell_type": "markdown",
   "metadata": {},
   "source": [
    "# Made With 💓 By - [Devs Do Code](https://www.youtube.com/channel/@devsdocode)\n",
    "\n",
    "- **LinkedIn**: [https://www.linkedin.com/in/developer-sreejan](https://www.linkedin.com/in/developer-sreejan)\n",
    "- **YouTube Channel**: [https://www.youtube.com/@DevsDoCode](https://www.youtube.com/@DevsDoCode)\n",
    "- **Telegram Group**: [https://t.me/devsdocode](https://t.me/devsdocode)\n",
    "- **Discord Server**: [https://discord.gg/hKkTtTfdQH](https://discord.gg/hKkTtTfdQH)\n",
    "- **Instagram**:\n",
    "  - **Personal**: https://www.instagram.com/sree.shades_/\n",
    "  - **Channel**: https://www.instagram.com/devsdocode_/\n",
    "\n",
    "  \n",
    "🔗 Support Me:\n",
    "- Buy Me a Coffee: https://buymeacoffee.com/devsdocode\n",
    "- Patreon: https://www.patreon.com/DevsDoCode\n",
    "\n",
    "---\n",
    "\n",
    "🚀 Dive into the world of coding with [Devs Do Code](https://www.youtube.com/channel/@devsdocode) - where passion meets programming! Make sure to hit that Subscribe button to stay tuned for exciting content! 😊✨\n",
    "\n",
    "**Pro Tip:** For optimal performance and a seamless experience, we recommend using the default library versions demonstrated in this demo. Your coding journey just got even better! Happy coding! 🖥️💻"
   ]
  },
  {
   "cell_type": "markdown",
   "metadata": {},
   "source": [
    "### Client Setup"
   ]
  },
  {
   "cell_type": "code",
   "execution_count": 4,
   "metadata": {},
   "outputs": [
    {
     "ename": "ModuleNotFoundError",
     "evalue": "No module named 'openai'",
     "output_type": "error",
     "traceback": [
      "\u001b[0;31m---------------------------------------------------------------------------\u001b[0m",
      "\u001b[0;31mModuleNotFoundError\u001b[0m                       Traceback (most recent call last)",
      "Cell \u001b[0;32mIn[4], line 1\u001b[0m\n\u001b[0;32m----> 1\u001b[0m \u001b[38;5;28;01mfrom\u001b[39;00m\u001b[38;5;250m \u001b[39m\u001b[38;5;21;01mopenai\u001b[39;00m\u001b[38;5;250m \u001b[39m\u001b[38;5;28;01mimport\u001b[39;00m OpenAI\n\u001b[1;32m      3\u001b[0m API_KEY \u001b[38;5;241m=\u001b[39m \u001b[38;5;124m\"\u001b[39m\u001b[38;5;124mddc-dgWwQAs3ehQbaN6MHMThbY5Hed1aFaYPQ9MCkMWac1JEYUSy0K\u001b[39m\u001b[38;5;124m\"\u001b[39m\n\u001b[1;32m      4\u001b[0m BASE_URL \u001b[38;5;241m=\u001b[39m \u001b[38;5;124m\"\u001b[39m\u001b[38;5;124mhttps://api.sree.shop/v1\u001b[39m\u001b[38;5;124m\"\u001b[39m\n",
      "\u001b[0;31mModuleNotFoundError\u001b[0m: No module named 'openai'"
     ]
    }
   ],
   "source": [
    "from openai import OpenAI\n",
    "\n",
    "API_KEY = \"ddc-dgWwQAs3ehQbaN6MHMThbY5Hed1aFaYPQ9MCkMWac1JEYUSy0K\"\n",
    "BASE_URL = \"https://api.sree.shop/v1\"\n",
    "\n",
    "client = OpenAI(\n",
    "    api_key=API_KEY,\n",
    "    base_url=BASE_URL\n",
    ")"
   ]
  },
  {
   "cell_type": "markdown",
   "metadata": {},
   "source": [
    "### List Available Models"
   ]
  },
  {
   "cell_type": "code",
   "execution_count": 5,
   "metadata": {},
   "outputs": [
    {
     "name": "stdout",
     "output_type": "stream",
     "text": [
      "Error listing models: name 'client' is not defined\n"
     ]
    }
   ],
   "source": [
    "try:\n",
    "    models = client.models.list().data\n",
    "    for model in models:\n",
    "        print(model.id)\n",
    "except Exception as e:\n",
    "    print(\"Error listing models:\", e)"
   ]
  },
  {
   "cell_type": "markdown",
   "metadata": {},
   "source": [
    "### Test GPT-4o"
   ]
  },
  {
   "cell_type": "code",
   "execution_count": 7,
   "metadata": {},
   "outputs": [
    {
     "name": "stdout",
     "output_type": "stream",
     "text": [
      "\n",
      "--- GPT-4o Response ---\n",
      "Error: name 'client' is not defined\n"
     ]
    }
   ],
   "source": [
    "print(\"\\n--- GPT-4o Response ---\")\n",
    "\n",
    "try:\n",
    "    completion = client.chat.completions.create(\n",
    "        model=\"gpt-4o\",\n",
    "        messages=[\n",
    "            {\"role\": \"user\", \"content\": \"Hello, how are you?\"}\n",
    "        ]\n",
    "    )\n",
    "    print(completion.choices[0].message.content)\n",
    "except Exception as e:\n",
    "    print(\"Error:\", e)\n",
    "\n",
    "# try:\n",
    "#     completion = client.chat.completions.create(\n",
    "#         model=\"gpt-4o-2024-05-13\",\n",
    "#         messages=[\n",
    "#             {\"role\": \"user\", \"content\": \"Hello, how are you?\"}\n",
    "#         ]\n",
    "#     )\n",
    "#     print(completion.choices[0].message.content)\n",
    "# except Exception as e:\n",
    "#     print(\"Error:\", e)"
   ]
  },
  {
   "cell_type": "markdown",
   "metadata": {},
   "source": [
    "### Test Claude 3.5 Sonnet"
   ]
  },
  {
   "cell_type": "code",
   "execution_count": 8,
   "metadata": {},
   "outputs": [
    {
     "name": "stdout",
     "output_type": "stream",
     "text": [
      "\n",
      "--- Claude 3.5 Sonnet Response ---\n",
      "Error: name 'client' is not defined\n"
     ]
    }
   ],
   "source": [
    "print(\"\\n--- Claude 3.5 Sonnet Response ---\")\n",
    "\n",
    "try:\n",
    "    completion = client.chat.completions.create(\n",
    "        model=\"claude-3-5-sonnet\",\n",
    "        messages=[\n",
    "            {\"role\": \"user\", \"content\": \"Hello, how are you?\"}\n",
    "        ]\n",
    "    )\n",
    "    print(completion.choices[0].message.content)\n",
    "except Exception as e:\n",
    "    print(\"Error:\", e)\n",
    "\n",
    "# try:\n",
    "#     completion = client.chat.completions.create(\n",
    "#         model=\"claude-3-5-sonnet-20240620\",\n",
    "#         messages=[\n",
    "#             {\"role\": \"user\", \"content\": \"Hello, how are you?\"}\n",
    "#         ]\n",
    "#     )\n",
    "#     print(completion.choices[0].message.content)\n",
    "# except Exception as e:\n",
    "#     print(\"Error:\", e)"
   ]
  },
  {
   "cell_type": "markdown",
   "metadata": {},
   "source": [
    "### Test DeepSeek R1 Distill"
   ]
  },
  {
   "cell_type": "code",
   "execution_count": 10,
   "metadata": {},
   "outputs": [
    {
     "name": "stdout",
     "output_type": "stream",
     "text": [
      "\n",
      "--- DeepSeek R1 Response ---\n",
      "Error: name 'client' is not defined\n"
     ]
    }
   ],
   "source": [
    "# print(\"\\n--- DeepSeek R1 Distill Response ---\")\n",
    "\n",
    "# try:\n",
    "#     completion = client.chat.completions.create(\n",
    "#         model=\"deepseek-ai/DeepSeek-R1-Distill-Qwen-32B\",\n",
    "#         messages=[\n",
    "#             {\"role\": \"user\", \"content\": \"Hello, how are you?\"}\n",
    "#         ]\n",
    "#     )\n",
    "#     print(completion.choices[0].message.content)\n",
    "# except Exception as e:\n",
    "#     print(\"Error:\", e)\n",
    "\n",
    "print(\"\\n--- DeepSeek R1 Response ---\")\n",
    "try:\n",
    "    completion = client.chat.completions.create(\n",
    "        model=\"deepseek-r1\",\n",
    "        messages=[\n",
    "            {\"role\": \"user\", \"content\": \"Hello, how are you?\"}\n",
    "        ]\n",
    "    )\n",
    "    print(completion.choices[0].message.content)\n",
    "except Exception as e:\n",
    "    print(\"Error:\", e)"
   ]
  },
  {
   "cell_type": "markdown",
   "metadata": {},
   "source": [
    "### Test DeepSeek V3"
   ]
  },
  {
   "cell_type": "code",
   "execution_count": null,
   "metadata": {},
   "outputs": [],
   "source": [
    "print(\"\\n--- DeepSeek V3 Response ---\")\n",
    "try:\n",
    "    completion = client.chat.completions.create(\n",
    "        model=\"deepseek-v3\",\n",
    "        messages=[\n",
    "            {\"role\": \"user\", \"content\": \"Hello, how are you?\"}\n",
    "        ]\n",
    "    )\n",
    "    print(completion.choices[0].message.content)\n",
    "except Exception as e:\n",
    "    print(\"Error:\", e)"
   ]
  },
  {
   "cell_type": "markdown",
   "metadata": {},
   "source": [
    "### Test Llama 3 70B Turbo"
   ]
  },
  {
   "cell_type": "code",
   "execution_count": null,
   "metadata": {},
   "outputs": [],
   "source": [
    "print(\"\\n--- Llama 3 70B Turbo Response ---\")\n",
    "try:\n",
    "    completion = client.chat.completions.create(\n",
    "        model=\"Meta-Llama-3.3-70B-Instruct-Turbo\",\n",
    "        messages=[\n",
    "            {\"role\": \"user\", \"content\": \"Hello, how are you?\"}\n",
    "        ]\n",
    "    )\n",
    "    print(completion.choices[0].message.content)\n",
    "except Exception as e:\n",
    "    print(\"Error:\", e)"
   ]
  }
 ],
 "metadata": {
  "kernelspec": {
   "display_name": "Python 3",
   "language": "python",
   "name": "python3"
  },
  "language_info": {
   "codemirror_mode": {
    "name": "ipython",
    "version": 3
   },
   "file_extension": ".py",
   "mimetype": "text/x-python",
   "name": "python",
   "nbconvert_exporter": "python",
   "pygments_lexer": "ipython3",
   "version": "3.9.2"
  }
 },
 "nbformat": 4,
 "nbformat_minor": 2
}
